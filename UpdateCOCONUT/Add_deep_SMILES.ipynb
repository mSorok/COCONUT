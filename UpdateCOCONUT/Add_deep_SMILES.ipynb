{
 "cells": [
  {
   "cell_type": "code",
   "execution_count": 7,
   "metadata": {},
   "outputs": [
    {
     "name": "stdout",
     "output_type": "stream",
     "text": [
      "DeepSMILES version: 1.0.1\n",
      "Converter(rings=True, branches=True)\n"
     ]
    }
   ],
   "source": [
    "import deepsmiles\n",
    "print(\"DeepSMILES version: %s\" % deepsmiles.__version__)\n",
    "converter = deepsmiles.Converter(rings=True, branches=True)\n",
    "print(converter) # record the options used"
   ]
  },
  {
   "cell_type": "code",
   "execution_count": 8,
   "metadata": {},
   "outputs": [],
   "source": [
    "from pymongo import MongoClient\n",
    "from pprint import pprint\n",
    "import pandas as pd"
   ]
  },
  {
   "cell_type": "code",
   "execution_count": 9,
   "metadata": {},
   "outputs": [],
   "source": [
    "client = MongoClient(\"localhost:27017\")\n",
    "db = client['COCONUT2020-07']\n",
    "\n"
   ]
  },
  {
   "cell_type": "code",
   "execution_count": 14,
   "metadata": {},
   "outputs": [],
   "source": [
    "collection = db.uniqueNaturalProduct.aggregate( [ {'$project': { '_id':0, 'coconut_id':1, 'unique_smiles':1}} ] )\n",
    "\n",
    "allnp = pd.DataFrame(list(collection))\n"
   ]
  },
  {
   "cell_type": "code",
   "execution_count": 15,
   "metadata": {},
   "outputs": [],
   "source": [
    "for index, row in allnp.iterrows():\n",
    "    coconut_id = row['coconut_id']\n",
    "    smiles = row[\"unique_smiles\"]\n",
    "    \n",
    "    deep_smiles = converter.encode(smiles)\n",
    "    db.uniqueNaturalProduct.update_one({'coconut_id': coconut_id}, {\"$set\": {\"deep_smiles\": deep_smiles}})\n",
    "\n",
    "    \n",
    "    # for each row - get unique_smiles -> convert to deep smiles and save at deep_smiles\n",
    "\n",
    "\n",
    "\n",
    "#db.uniqueNaturalProduct.update_one({'coconut_id': data[0]}, {\"$set\": {\"name\": data[2]}})"
   ]
  },
  {
   "cell_type": "code",
   "execution_count": null,
   "metadata": {},
   "outputs": [],
   "source": []
  }
 ],
 "metadata": {
  "kernelspec": {
   "display_name": "Python 3",
   "language": "python",
   "name": "python3"
  },
  "language_info": {
   "codemirror_mode": {
    "name": "ipython",
    "version": 3
   },
   "file_extension": ".py",
   "mimetype": "text/x-python",
   "name": "python",
   "nbconvert_exporter": "python",
   "pygments_lexer": "ipython3",
   "version": "3.7.6"
  }
 },
 "nbformat": 4,
 "nbformat_minor": 4
}
